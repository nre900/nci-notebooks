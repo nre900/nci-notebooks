{
 "cells": [
  {
   "cell_type": "markdown",
   "metadata": {},
   "source": [
    "# THREDDS Data Server: Godiva ncWMS Viewer\n"
   ]
  },
  {
   "cell_type": "markdown",
   "metadata": {},
   "source": [
    "### Navigate to the dataset THREDDS catalog page\n",
    "\n",
    "### Under \"Viewers\", click on the \"Godiva2\" link\n",
    "\n",
    "<img src=\"./images/Godiva1.png\">\n",
    "\n",
    "\n",
    "### This will direct to the Godiva viewer\n",
    "\n",
    "<img src=\"./images/Godiva2.png\">\n",
    "\n",
    "\n",
    "### Expand the dataset\n",
    "\n",
    "<img src=\"./images/Godiva3.png\">\n",
    "\n",
    "\n",
    "### Select a variable (or subdataset)\n",
    "\n",
    "<img src=\"./images/Godiva4.png\">\n",
    "\n",
    "\n",
    "### If time is a dimensions, a time step can be selected. \n",
    "**Note:** The default colorscale may not be appropriate for the dataset. These can be modified to the right of the viewer. \n",
    "\n",
    "\n",
    "<img src=\"./images/Godiva5.png\">\n",
    "\n",
    "\n",
    "\n",
    "<img src=\"./images/Godiva6.png\">\n",
    "\n",
    "\n",
    "### To change the default colormap, left-click on the colorbar\n",
    "\n",
    "<img src=\"./images/Godiva7.png\">\n"
   ]
  }
 ],
 "metadata": {
  "kernelspec": {
   "display_name": "Python 2",
   "language": "python",
   "name": "python2"
  },
  "language_info": {
   "codemirror_mode": {
    "name": "ipython",
    "version": 2
   },
   "file_extension": ".py",
   "mimetype": "text/x-python",
   "name": "python",
   "nbconvert_exporter": "python",
   "pygments_lexer": "ipython2",
   "version": "2.7.11"
  }
 },
 "nbformat": 4,
 "nbformat_minor": 0
}
