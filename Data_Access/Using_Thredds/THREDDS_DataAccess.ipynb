{
 "cells": [
  {
   "cell_type": "markdown",
   "metadata": {},
   "source": [
    "# THREDDS Data Server: Data access\n",
    "\n",
    "### The following information will demonstrate:\n",
    "\n",
    "##### - Discover some data through NCI's Geonetwork page\n",
    "\n",
    "##### - Direct download of a file\n",
    "\n",
    "##### - OPeNDAP services:\n",
    "   - Using OPeNDAP to request/convert subset to an ASCII file \n",
    "   - Using OPeNDAP access and subsetting with Python modules\n",
    "\n",
    "\n",
    "##### - NetcdfSubset service\n",
    "   - Using THREDDS NetcdfSubset to request/convert subset another netCDF file\n",
    "    \n",
    "\n",
    "\n",
    "```\n",
    "\n",
    "\n",
    "\n",
    "```"
   ]
  },
  {
   "cell_type": "markdown",
   "metadata": {},
   "source": [
    "## Browse for data\n",
    "\n",
    "Begin by going to NCI's Geonetwork page: http://geonetwork.nci.org.au/\n",
    "\n",
    "This page contains the metadata records for NCI Data Collections as well as information on where to find the data. \n",
    "\n",
    "<img src=\"./images/gn1.png\">\n",
    "\n",
    "In this example, we will search for Landsat data:\n",
    "\n",
    "<img src=\"./images/gn2.png\">\n",
    "\n",
    "If we click on the first result, we see a brief overview of the metadata record. **Note:** For the full record, navigate to the upper-right corner of your browser to change to the \"Full view\" (eyeball icon). \n",
    "\n",
    "One of the options under **Download and links** is the NCI THREDDS Data Server Catalog page: \n",
    "\n",
    "<img src=\"./images/gn3.png\">\n",
    "\n",
    "By navigating to this link, the available (public) data subcollections and datasets will be visible:\n",
    "\n",
    "<img src=\"./images/thredds10.png\">\n",
    "\n",
    "\n",
    "In this example, let's navigate to the ** LANDSAT data: scenes and tiles/ tiles/ EPSG3577/ LS8_OLI_TIRS_NBAR/ ** dataset: \n",
    "\n",
    "<img src=\"./images/thredds11.png\">"
   ]
  },
  {
   "cell_type": "markdown",
   "metadata": {},
   "source": [
    "## To access the data we have several options. First select a data file:\n",
    "\n",
    "<img src=\"./images/thredds12.png\">"
   ]
  },
  {
   "cell_type": "markdown",
   "metadata": {},
   "source": [
    "## 1. File download\n",
    "\n",
    "\n",
    "To download the full file, click the link titled: **HTTPServer** and the download should commence. \n",
    "\n",
    "\n",
    "\n",
    "<img src=\"./images/thredds1.png\">"
   ]
  },
  {
   "cell_type": "markdown",
   "metadata": {
    "collapsed": true
   },
   "source": [
    "## 2. THREDDS OPeNDAP\n",
    "\n",
    "\n",
    "### On the THREDDS catalog page for the file, click the link titled:  **OPeNDAP** \n",
    "\n",
    "\n",
    "<img src=\"./images/thredds2.png\">\n",
    "\n",
    "\n",
    "\n",
    "### This will direct to the 'OPeNDAP Dataset Access Form' \n",
    "\n",
    "This page will list information on the file contents, including file metadata and variables. Each variable will also contain a list of variable-level metadata (or attributes).  \n",
    "\n",
    "<img src=\"./images/thredds3.png\">\n",
    "\n",
    "\n",
    "### Request subset in ASCII format:\n",
    "\n",
    "#### 1. To request a subset with the OPeNDAP Dataset Access Form, begin by selecting the desired subset. \n",
    "\n",
    "#### 2. To select a variable: \n",
    "\n",
    "   - Tick the box to the left of the variable name \n",
    "   - Provide subset range for each dimension of the variable\n",
    "\n",
    "   <img src=\"./images/thredds4.png\">\n",
    "\n",
    "\n",
    "#### 3. Navigate to the top of the page and select \"Get ASCII\"\n",
    "\n",
    "<img src=\"./images/thredds5.png\">\n",
    "\n",
    "\n",
    "#### 4. This should return the subset in a new window that can be copied/pasted or saved as a new file. \n",
    "\n",
    "<img src=\"./images/thredds6.png\">"
   ]
  },
  {
   "cell_type": "markdown",
   "metadata": {
    "collapsed": true
   },
   "source": [
    "### Use OPeNDAP for remote data access with Python\n",
    "\n",
    "#### 1. Return to the OPeNDAP Dataset Access Form page\n",
    "\n",
    "#### 2. Copy the URL in the field titled \"Data URL\"\n",
    "\n",
    "<img src=\"./images/thredds7.png\">\n",
    "\n",
    "#### 3. This URL can be used in the same manner as the path to a local file within Python.\n",
    "\n",
    "The following demonstrates how to access and subset with the common netCDF Python module \"netCDF4\". "
   ]
  },
  {
   "cell_type": "code",
   "execution_count": 1,
   "metadata": {
    "collapsed": true
   },
   "outputs": [],
   "source": [
    "from netCDF4 import Dataset"
   ]
  },
  {
   "cell_type": "code",
   "execution_count": 2,
   "metadata": {
    "collapsed": true
   },
   "outputs": [],
   "source": [
    "data_url = \"http://dapds00.nci.org.au/thredds/dodsC/rs0/tiles/EPSG3577/LS8_OLI_TIRS_NBART/LS8_OLI_TIRS_NBART_3577_-10_-28_2013.nc\""
   ]
  },
  {
   "cell_type": "markdown",
   "metadata": {},
   "source": [
    "##### Open file \n",
    "This action opens the file but no data is yet loaded (or decompressed) until requested. Once the file is open, the following actions in Python are identical to those used with local files. "
   ]
  },
  {
   "cell_type": "code",
   "execution_count": 3,
   "metadata": {
    "collapsed": true
   },
   "outputs": [],
   "source": [
    "f = Dataset(data_url, 'r')"
   ]
  },
  {
   "cell_type": "markdown",
   "metadata": {},
   "source": [
    "##### Browse file contents"
   ]
  },
  {
   "cell_type": "code",
   "execution_count": 17,
   "metadata": {
    "collapsed": false
   },
   "outputs": [
    {
     "name": "stdout",
     "output_type": "stream",
     "text": [
      "maxStrlen64 64\n",
      "time 61\n",
      "x 4000\n",
      "y 4000\n"
     ]
    }
   ],
   "source": [
    "## Display file dimensions\n",
    "for item in f.dimensions:\n",
    "    print item, f.dimensions[item].size\n",
    "\n"
   ]
  },
  {
   "cell_type": "code",
   "execution_count": 16,
   "metadata": {
    "collapsed": false
   },
   "outputs": [
    {
     "name": "stdout",
     "output_type": "stream",
     "text": [
      "Variable: \ty\n",
      "Dimensions: \t(u'y',)\n",
      "Shape:    \t(4000,) \n",
      "\n",
      "Variable: \tx\n",
      "Dimensions: \t(u'x',)\n",
      "Shape:    \t(4000,) \n",
      "\n",
      "Variable: \ttime\n",
      "Dimensions: \t(u'time',)\n",
      "Shape:    \t(61,) \n",
      "\n",
      "Variable: \tcrs\n",
      "Dimensions: \t()\n",
      "Shape:    \t() \n",
      "\n",
      "Variable: \textra_metadata\n",
      "Dimensions: \t(u'time', u'maxStrlen64')\n",
      "Shape:    \t(61, 64) \n",
      "\n",
      "Variable: \tband_6\n",
      "Dimensions: \t(u'time', u'y', u'x')\n",
      "Shape:    \t(61, 4000, 4000) \n",
      "\n",
      "Variable: \tband_7\n",
      "Dimensions: \t(u'time', u'y', u'x')\n",
      "Shape:    \t(61, 4000, 4000) \n",
      "\n",
      "Variable: \tband_4\n",
      "Dimensions: \t(u'time', u'y', u'x')\n",
      "Shape:    \t(61, 4000, 4000) \n",
      "\n",
      "Variable: \tband_5\n",
      "Dimensions: \t(u'time', u'y', u'x')\n",
      "Shape:    \t(61, 4000, 4000) \n",
      "\n",
      "Variable: \tband_2\n",
      "Dimensions: \t(u'time', u'y', u'x')\n",
      "Shape:    \t(61, 4000, 4000) \n",
      "\n",
      "Variable: \tband_3\n",
      "Dimensions: \t(u'time', u'y', u'x')\n",
      "Shape:    \t(61, 4000, 4000) \n",
      "\n",
      "Variable: \tband_1\n",
      "Dimensions: \t(u'time', u'y', u'x')\n",
      "Shape:    \t(61, 4000, 4000) \n",
      "\n"
     ]
    }
   ],
   "source": [
    "## Look at variables\n",
    "vars = f.variables.keys()\n",
    "for item in vars:\n",
    "    print 'Variable: \\t', item\n",
    "    print 'Dimensions: \\t', f[item].dimensions\n",
    "    print 'Shape:    \\t', f[item].shape, '\\n'"
   ]
  },
  {
   "cell_type": "markdown",
   "metadata": {},
   "source": [
    "##### Extract data subset examples (using indices)"
   ]
  },
  {
   "cell_type": "code",
   "execution_count": 19,
   "metadata": {
    "collapsed": true
   },
   "outputs": [],
   "source": [
    "# Extract the full spatial (x, y) range for the first time step:\n",
    "band2_t0 = f.variables['band_2'][0, :, :]\n",
    "\n",
    "# Extract all of time for a small spatial subset:\n",
    "band2_tyx_subset = f.variables['band_2'][:, 2000:2500, 1000:1500]"
   ]
  },
  {
   "cell_type": "markdown",
   "metadata": {},
   "source": [
    "## 3. THREDDS NetcdfSubset\n",
    "\n",
    "#### On the THREDDS catalog page for the file, click the link titled:  **NetcdfSubset** \n",
    "\n",
    "\n",
    "<img src=\"./images/thredds8.png\">\n",
    "\n",
    "\n",
    "#### This will direct to the 'NetcdfSubset' page \n",
    "\n",
    "This page will list the available variables along with the spatial and temporal information. To request a subset, select the variable(s) of interest (and/or spatial/temporal range) and then select 'Submit'. \n",
    "\n",
    "<img src=\"./images/thredds9.png\">"
   ]
  }
 ],
 "metadata": {
  "kernelspec": {
   "display_name": "Python 2",
   "language": "python",
   "name": "python2"
  },
  "language_info": {
   "codemirror_mode": {
    "name": "ipython",
    "version": 2
   },
   "file_extension": ".py",
   "mimetype": "text/x-python",
   "name": "python",
   "nbconvert_exporter": "python",
   "pygments_lexer": "ipython2",
   "version": "2.7.11"
  },
  "widgets": {
   "state": {},
   "version": "1.1.2"
  }
 },
 "nbformat": 4,
 "nbformat_minor": 0
}
