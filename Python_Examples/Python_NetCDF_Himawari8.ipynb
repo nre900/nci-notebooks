{
 "cells": [
  {
   "cell_type": "markdown",
   "metadata": {},
   "source": [
    "# NCI Data Access: Python NetCDF Himawari8\n",
    "\n",
    "**The following will go through how to:** <br \\>\n",
    "   1. Access netCDF data locally from /g/data \n",
    "   2. Access published netCDF data through NCI's THREDDS Data Server (using OPeNDAP)\n",
    "   3. Extract/view data\n",
    "   4. Save data subset to new file\n"
   ]
  },
  {
   "cell_type": "markdown",
   "metadata": {},
   "source": [
    "### If working from Raijin or the VDI (Virtual Desktop Infrastructure), load the required modules\n",
    "\n",
    "```\n",
    "$ module load python/2.7.5 \n",
    "$ module load python/2.7.5-matplotlib\n",
    "\n",
    "```"
   ]
  },
  {
   "cell_type": "markdown",
   "metadata": {},
   "source": [
    "### Import python libraries\n",
    "\n",
    "There are several Python libraries available to work with netCDF and HDF file formats. This tutorial will use `netCDF4` but others, such as `h5py`, `cdms2`, and `gdal` can also be used. For more information on these other libraries, please see the main tutorial page. \n",
    "\n",
    "**Note:** Python's netCDF4 library has to be installed locally by user on Raijin and the VDI"
   ]
  },
  {
   "cell_type": "code",
   "execution_count": 2,
   "metadata": {
    "collapsed": false
   },
   "outputs": [],
   "source": [
    "from netCDF4 import Dataset\n",
    "import matplotlib.pyplot as plt \n",
    "%matplotlib inline"
   ]
  },
  {
   "cell_type": "markdown",
   "metadata": {},
   "source": [
    "## Open/read file\n",
    "**Note:** This does not yet load/extract any data, just opens the file.\n",
    "\n",
    "### The 'Dataset' function is used to open a file with Python's netCDF4 library. \n",
    "For local files, this will be the filepath (i.e., /g/data...) while for remote access, this will be the OPeNDAP data URL. For instructions on how to find the OPeNDAP URL, please see: [THREDDS Data Access](https://nbviewer.jupyter.org/github/kdruken/Notebooks/blob/master/THREDDS_DataAccess.ipynb)"
   ]
  },
  {
   "cell_type": "markdown",
   "metadata": {},
   "source": [
    "#### 1. Accessing data locally (/g/data) "
   ]
  },
  {
   "cell_type": "code",
   "execution_count": 3,
   "metadata": {
    "collapsed": false
   },
   "outputs": [],
   "source": [
    "path = '/g/data/rr5/satellite/obs/himawari8/FLDK/2016/01/03/0030/20160103003000-P1S-ABOM_BRF_B02-PRJ_GEOS141_2000-HIMAWARI8-AHI.nc'"
   ]
  },
  {
   "cell_type": "markdown",
   "metadata": {},
   "source": [
    "#### 2. Accessing data remotely (OPeNDAP)"
   ]
  },
  {
   "cell_type": "code",
   "execution_count": 4,
   "metadata": {
    "collapsed": true
   },
   "outputs": [],
   "source": [
    "url = 'http://dapds00.nci.org.au/thredds/dodsC/rr5/satellite/obs/himawari8/FLDK/2016/01/03/0030/20160103003000-P1S-ABOM_BRF_B02-PRJ_GEOS141_2000-HIMAWARI8-AHI.nc'"
   ]
  },
  {
   "cell_type": "markdown",
   "metadata": {},
   "source": [
    "#### 3. Either the 'path' or the 'url' can be used now to open the file"
   ]
  },
  {
   "cell_type": "code",
   "execution_count": 5,
   "metadata": {
    "collapsed": false
   },
   "outputs": [],
   "source": [
    "f = Dataset(path, 'r')\n",
    "\n",
    "# OR\n",
    "\n",
    "f = Dataset(url, 'r')"
   ]
  },
  {
   "cell_type": "markdown",
   "metadata": {},
   "source": [
    "#### After opening the file with the OPeNDAP address, the file can be handled in the same manner as a local file. "
   ]
  },
  {
   "cell_type": "markdown",
   "metadata": {},
   "source": [
    "## Browse information about the file"
   ]
  },
  {
   "cell_type": "markdown",
   "metadata": {},
   "source": [
    "### File dimensions"
   ]
  },
  {
   "cell_type": "code",
   "execution_count": 6,
   "metadata": {
    "collapsed": false
   },
   "outputs": [
    {
     "name": "stdout",
     "output_type": "stream",
     "text": [
      "time 1\n",
      "x 5500\n",
      "y 5500\n"
     ]
    }
   ],
   "source": [
    "for item in f.dimensions:\n",
    "    print f.dimensions[item].name, f.dimensions[item].size"
   ]
  },
  {
   "cell_type": "markdown",
   "metadata": {},
   "source": [
    "### File variables"
   ]
  },
  {
   "cell_type": "code",
   "execution_count": 7,
   "metadata": {
    "collapsed": false
   },
   "outputs": [
    {
     "name": "stdout",
     "output_type": "stream",
     "text": [
      "Variable: \ttime\n",
      "Dimensions: \t(u'time',)\n",
      "Shape:    \t(1,) \n",
      "\n",
      "Variable: \ty\n",
      "Dimensions: \t(u'y',)\n",
      "Shape:    \t(5500,) \n",
      "\n",
      "Variable: \tx\n",
      "Dimensions: \t(u'x',)\n",
      "Shape:    \t(5500,) \n",
      "\n",
      "Variable: \tgeostationary\n",
      "Dimensions: \t()\n",
      "Shape:    \t() \n",
      "\n",
      "Variable: \tscan_line_time\n",
      "Dimensions: \t(u'y',)\n",
      "Shape:    \t(5500,) \n",
      "\n",
      "Variable: \tchannel_0002_brf\n",
      "Dimensions: \t(u'time', u'y', u'x')\n",
      "Shape:    \t(1, 5500, 5500) \n",
      "\n"
     ]
    }
   ],
   "source": [
    "vars = f.variables.keys()\n",
    "for item in vars:\n",
    "    print 'Variable: \\t', item\n",
    "    print 'Dimensions: \\t', f[item].dimensions\n",
    "    print 'Shape:    \\t', f[item].shape, '\\n'"
   ]
  },
  {
   "cell_type": "markdown",
   "metadata": {},
   "source": [
    "## Extracting data (using index values)\n",
    "A nice feature of netCDF/HDF file formats is that you can extract subsets without having to read the entire file (or variable). The example below demonstrates the simplest subsetting example by directly specifying the subset indices. "
   ]
  },
  {
   "cell_type": "code",
   "execution_count": 8,
   "metadata": {
    "collapsed": false
   },
   "outputs": [],
   "source": [
    "# Read variables (but not yet extract)\n",
    "ch02 = f['channel_0002_brf']\n",
    "y = f['y']\n",
    "x = f['x']\n",
    "t = f['time']"
   ]
  },
  {
   "cell_type": "code",
   "execution_count": 9,
   "metadata": {
    "collapsed": false
   },
   "outputs": [],
   "source": [
    "# Subset indices\n",
    "x1, x2 = 1000, 4000\n",
    "y1, y2 = 1000, 4000\n",
    "t1 = 0"
   ]
  },
  {
   "cell_type": "code",
   "execution_count": 10,
   "metadata": {
    "collapsed": false
   },
   "outputs": [
    {
     "name": "stdout",
     "output_type": "stream",
     "text": [
      "CPU times: user 660 ms, sys: 96.5 ms, total: 757 ms\n",
      "Wall time: 1.86 s\n"
     ]
    }
   ],
   "source": [
    "%%time\n",
    "\n",
    "# Extract\n",
    "ch02_subset = ch02[t1, y1:y2, x1:x2]\n",
    "y_subset = y[y1:y2]\n",
    "x_subset = x[x1:x2]"
   ]
  },
  {
   "cell_type": "markdown",
   "metadata": {},
   "source": [
    "## Plot data"
   ]
  },
  {
   "cell_type": "code",
   "execution_count": 11,
   "metadata": {
    "collapsed": false
   },
   "outputs": [
    {
     "data": {
      "image/png": "[encoded data removed]",
      "text/plain": [
       "<matplotlib.figure.Figure at 0x1036b4850>"
      ]
     },
     "metadata": {},
     "output_type": "display_data"
    }
   ],
   "source": [
    "# Set figure size\n",
    "plt.figure(figsize=(12,6))\n",
    "\n",
    "# Plot data subset with equal axes and colorbar\n",
    "plt.contourf(x_subset, y_subset, ch02_subset)\n",
    "plt.axis('equal')\n",
    "cbar = plt.colorbar()\n",
    "\n",
    "# Add figure title and labels\n",
    "# We can make use of the defined variable attributes to do this\n",
    "plt.title(ch02.long_name+'\\n', fontsize=18)\n",
    "plt.xlabel(x.long_name+' ('+x.units+') ', fontsize=16)\n",
    "plt.ylabel(y.long_name+' ('+y.units+') ', fontsize=16)\n",
    "\n",
    "# Adjust tick mark size\n",
    "cbar.ax.tick_params(labelsize=16) \n",
    "plt.tick_params(labelsize=16)\n"
   ]
  },
  {
   "cell_type": "markdown",
   "metadata": {},
   "source": [
    "## Save subset to new netCDF file\n",
    "\n",
    "If only using a small subset of a much larger dataset, it can sometimes be useful to save the subset to a new file for smoother use with other tools. "
   ]
  },
  {
   "cell_type": "markdown",
   "metadata": {},
   "source": [
    "**Note:** NCO (NetCDF Operators) tools provide a much simpler way of copying netCDF subsets to new files. For more  information using NCO: [NCO tutorial](https://nbviewer.jupyter.org/github/kdruken/Notebooks/blob/master/NCO.ipynb)"
   ]
  },
  {
   "cell_type": "markdown",
   "metadata": {},
   "source": [
    "#### Create and open new file"
   ]
  },
  {
   "cell_type": "code",
   "execution_count": 12,
   "metadata": {
    "collapsed": false
   },
   "outputs": [],
   "source": [
    "new_nc = Dataset('new_file.nc', 'w')"
   ]
  },
  {
   "cell_type": "markdown",
   "metadata": {},
   "source": [
    "#### Create new dimensions"
   ]
  },
  {
   "cell_type": "code",
   "execution_count": 13,
   "metadata": {
    "collapsed": false
   },
   "outputs": [],
   "source": [
    "xdim = new_nc.createDimension('x', len(x_subset))\n",
    "ydim = new_nc.createDimension('y', len(y_subset))\n",
    "tdim = new_nc.createDimension('t', f.dimensions['time'].size)"
   ]
  },
  {
   "cell_type": "markdown",
   "metadata": {},
   "source": [
    "#### Create new variables"
   ]
  },
  {
   "cell_type": "code",
   "execution_count": 14,
   "metadata": {
    "collapsed": false
   },
   "outputs": [],
   "source": [
    "x_new = new_nc.createVariable('x', x.datatype, ('x',))\n",
    "y_new = new_nc.createVariable('y', y.datatype, ('y',))\n",
    "t_new = new_nc.createVariable('t', t.datatype, ('t',))\n",
    "\n",
    "ch02_new = new_nc.createVariable('channel_0002_brf', 'f8', ('t','y','x',))\n",
    "geo_new = new_nc.createVariable('geostationary', f['geostationary'].datatype, ())"
   ]
  },
  {
   "cell_type": "markdown",
   "metadata": {},
   "source": [
    "#### Write data from subset"
   ]
  },
  {
   "cell_type": "code",
   "execution_count": 15,
   "metadata": {
    "collapsed": true
   },
   "outputs": [],
   "source": [
    "x_new[:] = x_subset\n",
    "y_new[:] = y_subset\n",
    "t_new[:] = t[:]\n",
    "ch02_new[:,:,:] = ch02_subset"
   ]
  },
  {
   "cell_type": "markdown",
   "metadata": {},
   "source": [
    "#### Copy metadata and variable attributes into new file"
   ]
  },
  {
   "cell_type": "code",
   "execution_count": 16,
   "metadata": {
    "collapsed": false
   },
   "outputs": [],
   "source": [
    "# Global attributes\n",
    "for item, value in f.__dict__.items():\n",
    "    new_nc.__setattr__(item, value)"
   ]
  },
  {
   "cell_type": "code",
   "execution_count": 17,
   "metadata": {
    "collapsed": false
   },
   "outputs": [],
   "source": [
    "# Variable attributes\n",
    "variables = [(t, t_new), (y, y_new), (x, x_new), (ch02, ch02_new), (f['geostationary'], geo_new)]\n",
    "\n",
    "for vold, vnew in variables:\n",
    "    for item, value in vold.__dict__.items():\n",
    "        # Special attributes that begin with '_' (e.g., _FillValue, _ChunkSize, etc.) \n",
    "        # need to be defined when first creating the variable, \n",
    "        # in this simple example these attributes are ignored\n",
    "        if not item.startswith('_'):\n",
    "            vnew.__setattr__(item, value)\n",
    "        "
   ]
  },
  {
   "cell_type": "markdown",
   "metadata": {},
   "source": [
    "#### Close file"
   ]
  },
  {
   "cell_type": "code",
   "execution_count": 18,
   "metadata": {
    "collapsed": true
   },
   "outputs": [],
   "source": [
    "new_nc.close()"
   ]
  }
 ],
 "metadata": {
  "kernelspec": {
   "display_name": "Python 2",
   "language": "python",
   "name": "python2"
  },
  "language_info": {
   "codemirror_mode": {
    "name": "ipython",
    "version": 2
   },
   "file_extension": ".py",
   "mimetype": "text/x-python",
   "name": "python",
   "nbconvert_exporter": "python",
   "pygments_lexer": "ipython2",
   "version": "2.7.11"
  }
 },
 "nbformat": 4,
 "nbformat_minor": 0
}
