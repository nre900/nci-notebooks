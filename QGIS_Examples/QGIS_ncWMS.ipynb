{
 "cells": [
  {
   "cell_type": "markdown",
   "metadata": {},
   "source": [
    "# QGIS: Adding a WMS layer from THREDDS\n",
    "**Version:** 2.2.0 (available on NCI's VDI)\n",
    "\n",
    "**This notebook will demonstrate:**\n",
    "- How to launch QGIS on NCI's Virtual Desktop Infrastructure (VDI)\n",
    "- How to add a WMS layer from NCI's THREDDS Data Server"
   ]
  },
  {
   "cell_type": "markdown",
   "metadata": {},
   "source": [
    "## Load required libraries:\n",
    "\n",
    "```\n",
    "$ module load qgis/2.2.0 gdal/1.9.2\n",
    "\n",
    "```\n",
    "\n",
    "\n",
    "<div class=\"alert alert-info\">\n",
    "<b>NOTE: </b> If your workflows require Python's Matplotlib plotting library you will need to additionally load the <b>matplotlib</b> module: <br></br>\n",
    "<br>\n",
    "$ module load python/2.7.5-matplotlib\n",
    "</br>\n",
    "</div>"
   ]
  },
  {
   "cell_type": "markdown",
   "metadata": {},
   "source": [
    "## Launch QGIS:\n",
    "```\n",
    "$ qgis &\n",
    "```\n"
   ]
  },
  {
   "cell_type": "markdown",
   "metadata": {},
   "source": [
    "## Select the \"Add WMS/WMTS\" icon on the left vertical panel \n",
    "Or alternatively from the **Layer --> Add Layer --> Add WMS/WMTS Layer** in the top menu bar.\n",
    "\n",
    "<img src=\"./images/qgis2.png\">\n",
    "``` ```"
   ]
  },
  {
   "cell_type": "markdown",
   "metadata": {},
   "source": [
    "## Create a new WMS layer (or edit an existing one) by selecting 'New' or 'Edit'\n",
    "\n",
    "<img src=\"./images/qgis3.png\">\n",
    "``` ```"
   ]
  },
  {
   "cell_type": "markdown",
   "metadata": {},
   "source": [
    "## Enter a name and WMS GetMap request in the provided fields\n",
    "\n",
    "<br></br>\n",
    "<div class=\"alert alert-info\">\n",
    "<b>NOTE:</b> If the GetCapabilities request is entered, QGIS will receive the default GetMap parameters which may result in the wrong color scale range and/or an issue with requesting time slices. It is recommended that the full GetMap request is entered to avoid these. \n",
    "</div>\n",
    "\n",
    "<img src=\"./images/qgis4.png\">\n",
    "``` ```"
   ]
  },
  {
   "cell_type": "markdown",
   "metadata": {},
   "source": [
    "## Click 'Connect'\n",
    "\n",
    "<img src=\"./images/qgis5.png\">\n"
   ]
  },
  {
   "cell_type": "markdown",
   "metadata": {},
   "source": [
    "## Select the layer\n",
    "\n",
    "**Note:** Selecting this top-level option will display the specified style requested with the GetMap, however if you expand this the other available color palettes are available to choose from. \n",
    "\n",
    "<img src=\"./images/qgis5b.png\">\n",
    "\n",
    "<img src=\"./images/qgis6.png\">\n"
   ]
  },
  {
   "cell_type": "markdown",
   "metadata": {},
   "source": [
    "## After deciding on the palette, click 'Add' to add the layer\n",
    "The layer should now display. \n",
    "\n",
    "<img src=\"./images/qgis7.png\">"
   ]
  }
 ],
 "metadata": {
  "kernelspec": {
   "display_name": "Python 2",
   "language": "python",
   "name": "python2"
  },
  "language_info": {
   "codemirror_mode": {
    "name": "ipython",
    "version": 2
   },
   "file_extension": ".py",
   "mimetype": "text/x-python",
   "name": "python",
   "nbconvert_exporter": "python",
   "pygments_lexer": "ipython2",
   "version": "2.7.11"
  }
 },
 "nbformat": 4,
 "nbformat_minor": 0
}
