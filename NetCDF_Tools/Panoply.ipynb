{
 "cells": [
  {
   "cell_type": "markdown",
   "metadata": {},
   "source": [
    "# Panoply \n",
    "Version: 4.4.3\n",
    "\n",
    "## Loading and viewing NetCDF data demo\n"
   ]
  },
  {
   "cell_type": "markdown",
   "metadata": {},
   "source": [
    "### Opening a file"
   ]
  },
  {
   "cell_type": "markdown",
   "metadata": {},
   "source": [
    "1. To load local file go to 'File --> Open' \n",
    "\n",
    "    (Or to load using OPeNDAP: > File > Open Remote Dataset...)\n",
    "    \n",
    "    <img src=\"./images/panoply1.png\">\n",
    "    ```  ```\n",
    "2. Select the file or enter an OPeNDAP URL:\n",
    "\n",
    "    <img src=\"./images/panoply2.png\">\n",
    "    ``` ```\n",
    "3. File contents should now be visible. File metadata will be displayed in right panel when clicking on each item in the left.  \n",
    "\n",
    "    <img src=\"./images/panoply3.png\">\n",
    "    ``` ```\n",
    "\n"
   ]
  },
  {
   "cell_type": "markdown",
   "metadata": {},
   "source": [
    "### Plotting "
   ]
  },
  {
   "cell_type": "markdown",
   "metadata": {
    "collapsed": true
   },
   "source": [
    "1. To plot data, double-click or right-click on the variable of interest. \n",
    "\n",
    "    <img src=\"./images/panoply5.png\">\n",
    "    ``` ```\n",
    "    \n",
    "2. Select **Create georeferenced** to test that data can be projected correctly. Click **Create**. \n",
    "\n",
    "    <img src=\"./images/panoply6.png\">\n",
    "    ``` ```\n",
    "\n",
    "3. A new window will open and display the plot. Use the zoom options (or right click) to enlarge area of interest. \n",
    "\n",
    "    <img src=\"./images/panoply7.png\">\n",
    "    ```  ```\n",
    "    \n",
    "    <img src=\"./images/panoply8.png\">"
   ]
  }
 ],
 "metadata": {
  "kernelspec": {
   "display_name": "Python 2",
   "language": "python",
   "name": "python2"
  },
  "language_info": {
   "codemirror_mode": {
    "name": "ipython",
    "version": 2
   },
   "file_extension": ".py",
   "mimetype": "text/x-python",
   "name": "python",
   "nbconvert_exporter": "python",
   "pygments_lexer": "ipython2",
   "version": "2.7.11"
  }
 },
 "nbformat": 4,
 "nbformat_minor": 0
}
