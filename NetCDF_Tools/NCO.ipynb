{
 "cells": [
  {
   "cell_type": "markdown",
   "metadata": {},
   "source": [
    "# NCO:  NetCDF Operators\n",
    "Version: 4.3.8"
   ]
  },
  {
   "cell_type": "markdown",
   "metadata": {},
   "source": [
    "## View file contents"
   ]
  },
  {
   "cell_type": "markdown",
   "metadata": {},
   "source": [
    "**One way to quickly view netCDF file contents with NCO is to use the 'kitchen sink' operator.**\n",
    "\n",
    "1. Load NCO module: \n",
    "    ```\n",
    "    $ module load nco/4.3.8\n",
    "    ```\n",
    "   \n",
    "   ``` ```\n",
    "    \n",
    "2. Use the ‘kitchen sink’ function (‘ncks’) to view the file metadata (‘-m’) option:\n",
    "    ```\n",
    "    $ ncks -m <file>\n",
    "    ```\n",
    "\n",
    "    This will display the variables contained with the file along with all the corresponding variable metadata (yellow arrows). "
   ]
  },
  {
   "cell_type": "markdown",
   "metadata": {},
   "source": [
    "<img src=\"./images/nco1.png\">"
   ]
  },
  {
   "cell_type": "markdown",
   "metadata": {},
   "source": [
    "**NCO offers numerous functions for viewing, extracting, and converting netCDF files. For more information on these sites:**\n",
    "\n",
    "http://nco.sourceforge.net/nco.html\n",
    "\n",
    "https://github.com/nco/nco/tree/master"
   ]
  }
 ],
 "metadata": {
  "kernelspec": {
   "display_name": "Python 2",
   "language": "python",
   "name": "python2"
  },
  "language_info": {
   "codemirror_mode": {
    "name": "ipython",
    "version": 2
   },
   "file_extension": ".py",
   "mimetype": "text/x-python",
   "name": "python",
   "nbconvert_exporter": "python",
   "pygments_lexer": "ipython2",
   "version": "2.7.11"
  }
 },
 "nbformat": 4,
 "nbformat_minor": 0
}
