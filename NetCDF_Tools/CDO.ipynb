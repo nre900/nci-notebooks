{
 "cells": [
  {
   "cell_type": "markdown",
   "metadata": {},
   "source": [
    "# CDO:  Climate Data Operators\n",
    "Version: 1.6.4"
   ]
  },
  {
   "cell_type": "markdown",
   "metadata": {},
   "source": [
    "## View file contents"
   ]
  },
  {
   "cell_type": "markdown",
   "metadata": {},
   "source": [
    "**Two ways to quickly view netCDF file information with the CDO library are the 'infon' and 'sinfon' functions.**\n",
    "\n",
    "\n",
    "### 1. Load CDO module\n",
    "```\n",
    "$ module load cdo/1.6.4\n",
    "```\n"
   ]
  },
  {
   "cell_type": "markdown",
   "metadata": {},
   "source": [
    "### 2. cdo sinfon\n",
    "Use the ‘cdo infon’ function to read and display simple statistics of the file contents:\n",
    "\n",
    "```\n",
    "$ cdo sinfon <file>\n",
    "```\n",
    "\n",
    "    \n",
    "**This displays the 'short' information listed by parameter name. There are 3 sections which includes overview information on each variable, grids, and coordinates.** \n",
    "\n",
    "<img src=\"./images/cdo2.png\">"
   ]
  },
  {
   "cell_type": "markdown",
   "metadata": {},
   "source": [
    "### 3.  cdo infon    \n",
    "Use the ‘cdo infon’ function to read and display simple statistics of the file contents:\n",
    "\n",
    "```\n",
    "$ cdo infon <file>\n",
    "```\n",
    "\n",
    "    \n",
    "**This displays simple statistics for time step (or equivalent 3rd dim) per variable within the file.** \n",
    "    \n",
    "<img src=\"./images/cdo1.png\">"
   ]
  },
  {
   "cell_type": "markdown",
   "metadata": {},
   "source": [
    "**Note: CDO offers numerous functions for manipulating, extracting, and analysing netCDF files. For more information: **\n",
    "\n",
    "https://code.zmaw.de/projects/cdo/embedded/cdo.pdf\n"
   ]
  }
 ],
 "metadata": {
  "kernelspec": {
   "display_name": "Python 2",
   "language": "python",
   "name": "python2"
  },
  "language_info": {
   "codemirror_mode": {
    "name": "ipython",
    "version": 2
   },
   "file_extension": ".py",
   "mimetype": "text/x-python",
   "name": "python",
   "nbconvert_exporter": "python",
   "pygments_lexer": "ipython2",
   "version": "2.7.11"
  }
 },
 "nbformat": 4,
 "nbformat_minor": 0
}
