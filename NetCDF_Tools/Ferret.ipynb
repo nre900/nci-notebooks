{
 "cells": [
  {
   "cell_type": "markdown",
   "metadata": {},
   "source": [
    "## Ferret\n",
    "Version: 6.842\n",
    "\n",
    "##### For more information: http://www.ferret.noaa.gov/Ferret/"
   ]
  },
  {
   "cell_type": "markdown",
   "metadata": {},
   "source": [
    "### Load required libraries:\n",
    "\n",
    "```\n",
    "\n",
    "$ module load ferret/6.8.4.2\n",
    "\n",
    "```\n"
   ]
  },
  {
   "cell_type": "markdown",
   "metadata": {},
   "source": [
    "### Launch Ferret:\n",
    "\n",
    "```\n",
    "\n",
    "$ ferret\n",
    "```\n",
    "\n",
    "<img src=\"./images/ferret1.png\">"
   ]
  },
  {
   "cell_type": "markdown",
   "metadata": {},
   "source": [
    "### A prompt of ‘yes?’ should display. Enter ‘set data’ followed by the file path (or OPeNDAP url) in quotations:\n",
    "\n",
    "```\n",
    "\n",
    "yes? set data <file>\n",
    "```\n",
    "\n",
    "\n",
    "<img src=\"./images/ferret2.png\">"
   ]
  },
  {
   "cell_type": "markdown",
   "metadata": {},
   "source": [
    "### To see file contents, type ‘show data’. This will display the variables contained within the file along with the variable name and dimension information. \n",
    "\n",
    "```\n",
    "\n",
    "yes? show data\n",
    "```\n",
    "\n",
    "<img src=\"./images/ferret3.png\">"
   ]
  },
  {
   "cell_type": "markdown",
   "metadata": {},
   "source": [
    "### To view a plot of the data, one option is to use the ‘SHADE’ function. \n",
    "\n",
    "```\n",
    "\n",
    "yes? SHADE/L=<time_slice> <variable_name>\n",
    "\n",
    "```\n",
    "\n",
    "**Note:** The full dataset may exceed the available memory of Ferret. If this occurs, a smaller subset (i.e., specifying I, J values) must be selected or the memory settings must be increased.\n",
    "\n",
    "```\n",
    "\n",
    "yes? SHADE/L=<>/I=<>/J=<> <variable_name>\n",
    "```\n",
    "\n",
    "<img src=\"./images/ferret4.png\">\n",
    "\n",
    "\n",
    "#### A new window should display with the request plot:\n",
    "\n",
    "<img src=\"./images/ferret5.png\">"
   ]
  }
 ],
 "metadata": {
  "kernelspec": {
   "display_name": "Python 2",
   "language": "python",
   "name": "python2"
  },
  "language_info": {
   "codemirror_mode": {
    "name": "ipython",
    "version": 2
   },
   "file_extension": ".py",
   "mimetype": "text/x-python",
   "name": "python",
   "nbconvert_exporter": "python",
   "pygments_lexer": "ipython2",
   "version": "2.7.11"
  }
 },
 "nbformat": 4,
 "nbformat_minor": 0
}
