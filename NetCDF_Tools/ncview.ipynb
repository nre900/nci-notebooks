{
 "cells": [
  {
   "cell_type": "markdown",
   "metadata": {},
   "source": [
    "# ncview\n",
    "### Ncview is a useful tool that allows for quick and easy viewing of NetCDF files\n",
    "Version: 2.1.1 (Available on NCI's Virtual Desktop Infrastructure)\n",
    "\n",
    "\n",
    "\n",
    "`____________________________________________________________________________________`\n"
   ]
  },
  {
   "cell_type": "markdown",
   "metadata": {},
   "source": [
    "### 1. Basic Usage:\n",
    "\n",
    "From the command line:\n",
    "\n",
    "```\n",
    "$ ncview <file_path>\n",
    "```\n",
    "\n",
    "<img src=\"./images/ncview1.png\" width=700>\n",
    "\n",
    "\n",
    "This will display the main `ncview` window with all the available viewing options. \n",
    "\n",
    "Select a variable from the `Var` box. \n",
    "\n",
    "\n",
    "<img src=\"./images/ncview2.png\" width=500>"
   ]
  },
  {
   "cell_type": "markdown",
   "metadata": {},
   "source": [
    "A new window will display a plot of the selected variable. \n",
    "\n",
    "If the data includes a `time` dimension, use the single forward/backward arrows from the animation panel to step through time. (The double arrows will produce an animation and the 'delay' option can be used to slow down the speed at which it cycles through time).\n",
    "\n",
    "<img src=\"./images/ncview3.png\">\n",
    "\n",
    "\n",
    "A second panel can be used to modify a range of plot settings. \n",
    "\n",
    "<img src=\"./images/ncview4.png\">\n",
    "\n",
    "\n",
    "For example, the `3gauss` option can be selected to change the colour map: \n",
    "\n",
    "<img src=\"./images/ncview5.png\">\n",
    "\n",
    "\n",
    "`  `\n",
    "\n",
    "The table below provides a quick overview of some of the useful viewing options available:\n",
    "\n",
    "| Option        | Usage         | \n",
    "| :-------------: |-------------|\n",
    "| 3gauss | Cycle through colour maps |\n",
    "| Inv P | Invert the plot | \n",
    "| Inv C | Invert the colour scale | \n",
    "| Mag X1 | Zoom in/out (right/left click) | \n",
    "| Axes | Modify axes | "
   ]
  },
  {
   "cell_type": "markdown",
   "metadata": {},
   "source": [
    "### Additional command line options:\n",
    "\n",
    "```\n",
    "useage:\n",
    "ncview [options] datafiles\n",
    "\n",
    "Options\n",
    "\t-minmax: selects how rapidly minimum and maximum\n",
    "\t\tvalues in the data files will be determined;\n",
    "\t\tby scanning every third time entry (\"-minmax fast\"),\n",
    "\t\tevery fifth time entry (\"-minmax med\"), every tenth\n",
    "\t\t(\"-minmax slow\"), or all entries (\"-minmax all\").\n",
    "\t-frames: Dump out PNG images (to make a movie, for instance)\n",
    "\t-nc: \tSpecify number of colors to use.\n",
    "\t-no1d: \tDo NOT allow 1-D variables to be displayed.\n",
    "\t-repl: \tSet default blowup type to replicate rathern than bilinear.\n",
    "\t-calendar: Specify time calendar to use, overriding value in file. Known: noleap standard gregorian 365_day 360_day.\n",
    "\t-private: Use a private colormap.\n",
    "\t-debug: Print lots of debugging info.\n",
    "\t-beep: \tRing the bell when the movie restarts at frame zero.\n",
    "\t-extra: Put some extra information on the display window.\n",
    "\t-mtitle: My title to use on the display window.\n",
    "\t-noautoflip: Do not automatically flip image, even\n",
    "\t\tif dimensions indicate that it would make sense.\n",
    "\t-w: \tprint the lack-of-warranty blurb.\n",
    "\t-small: Keep popup window as small as possible by default.\n",
    "\t-shrink_mode: Shrink image assuming integer classes, so most common\n",
    "\t\tvalue in sub-block returned instead of arithmetic mean.\n",
    "\t-listsel_max NN: max number of vars allowed before switching to menu selection\n",
    "\t-no_color_ndims: do NOT color the var selection buttons by their dimensionality\n",
    "\t-no_auto_overlay: do NOT automatically put on continental overlays\n",
    "\t-autoscale: scale color map of EACH frame to range of that frame. Note: MUCH SLOWER!\n",
    "\t-missvalrgb RRR GGG BBB: specifies 3 integers (range: 0 to 255) to use for missing value color\n",
    "\t-maxsize: specifies max size of window before scrollbars are added. Either a single\n",
    "              integer between 30 and 100 giving percentage, or two integers separated by a\n",
    "              comma giving width and height. Ex: -maxsize 75  or -maxsize 800,600\n",
    "\t-c: \tprint the copying policy.\n",
    "datafiles:\n",
    "\tYou can have up to 32 of these.  They must all be in\n",
    "\tthe same general format, or have different variables in\n",
    "\tthem.  Ncview tries its best under such circumstances.\n",
    "```"
   ]
  }
 ],
 "metadata": {
  "kernelspec": {
   "display_name": "Python 2",
   "language": "python",
   "name": "python2"
  },
  "language_info": {
   "codemirror_mode": {
    "name": "ipython",
    "version": 2
   },
   "file_extension": ".py",
   "mimetype": "text/x-python",
   "name": "python",
   "nbconvert_exporter": "python",
   "pygments_lexer": "ipython2",
   "version": "2.7.11"
  }
 },
 "nbformat": 4,
 "nbformat_minor": 0
}
