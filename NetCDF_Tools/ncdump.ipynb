{
 "cells": [
  {
   "cell_type": "markdown",
   "metadata": {},
   "source": [
    "# ncdump \n",
    "Versions: 4.3.3.1, 4.2.1.1\n",
    "\n",
    "**'ncdump' is a simple netCDF library tool that can be useful for viewing file contents information as well as to verify whether a netCDF or HDF file is readable by the netCDF library.**"
   ]
  },
  {
   "cell_type": "markdown",
   "metadata": {},
   "source": [
    "### 1. Load netcdf module\n",
    "Load NCO module: \n",
    "```\n",
    "$ module load netcdf/4.3.3.1\n",
    "```\n",
    "   "
   ]
  },
  {
   "cell_type": "markdown",
   "metadata": {},
   "source": [
    "### 2. Use the '-h' option to view the file header information\n",
    "\n",
    "Use the ‘-h’ option to view the netcdf file header information (file can be called by local path name or remotely using the OPeNDAP URL): \n",
    "\n",
    "```\n",
    "$ ncdump -h <file>\n",
    "```\n",
    "\n",
    "<img src=\"./images/ncdump1.png\">\n",
    "\n",
    "\n",
    "This will display the: (1) file dimensions, (2) variables and variable metadata, and (3) global metadata. \n",
    "\n",
    "\n",
    "<img src=\"./images/ncdump2.png\">"
   ]
  },
  {
   "cell_type": "markdown",
   "metadata": {},
   "source": [
    "### Additional useful options:\n",
    "\n",
    "```\n",
    "$ ncdump\n",
    "\n",
    "ncdump [-c|-h] [-v ...] [[-b|-f] [c|f]] [-l len] [-n name] [-p n[,n]] [-k] [-x] [-s] [-t|-i] [-g ...] [-w] file\n",
    "  [-c]             Coordinate variable data and header information\n",
    "  [-h]             Header information only, no data\n",
    "  [-v var1[,...]]  Data for variable(s) <var1>,... only\n",
    "  [-b [c|f]]       Brief annotations for C or Fortran indices in data\n",
    "  [-f [c|f]]       Full annotations for C or Fortran indices in data\n",
    "  [-l len]         Line length maximum in data section (default 80)\n",
    "  [-n name]        Name for netCDF (default derived from file name)\n",
    "  [-p n[,n]]       Display floating-point values with less precision\n",
    "  [-k]             Output kind of netCDF file\n",
    "  [-s]             Output special (virtual) attributes\n",
    "  [-t]             Output time data as date-time strings\n",
    "  [-i]             Output time data as date-time strings with ISO-8601 'T' separator\n",
    "  [-g grp1[,...]]  Data and metadata for group(s) <grp1>,... only\n",
    "  [-w]             With client-side caching of variables for DAP URLs\n",
    "  [-x]             Output XML (NcML) instead of CDL\n",
    "  file             Name of netCDF file (or URL if DAP access enabled)\n",
    "\n",
    "```"
   ]
  }
 ],
 "metadata": {
  "kernelspec": {
   "display_name": "Python 2",
   "language": "python",
   "name": "python2"
  },
  "language_info": {
   "codemirror_mode": {
    "name": "ipython",
    "version": 2
   },
   "file_extension": ".py",
   "mimetype": "text/x-python",
   "name": "python",
   "nbconvert_exporter": "python",
   "pygments_lexer": "ipython2",
   "version": "2.7.11"
  }
 },
 "nbformat": 4,
 "nbformat_minor": 0
}
