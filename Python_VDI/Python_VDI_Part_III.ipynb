{
 "cells": [
  {
   "cell_type": "markdown",
   "metadata": {},
   "source": [
    "# Python on the VDI: Part III\n",
    "## iPython (Jupyter) Notebooks\n",
    "\n",
    "\n",
    "**The following will go through how to:** <br \\>\n",
    "- Using iPython Notebooks from the VDI\n",
    "   \n",
    "\n",
    "\n",
    "<br>\n",
    "<div class=\"panel panel-default\">\n",
    "  <div class=\"panel-body\">\n",
    "For information on getting started with Python on the VDI, see: <b>Python on the VDI: Part I</b> <br>\n",
    "\n",
    "For information on adding user-specific packages as well as setting up and using virtual envionments, see: <b>Python on the VDI: Part II</b>\n",
    "  </div>\n",
    "</div>\n",
    "\n",
    "\n",
    "<br>\n"
   ]
  },
  {
   "cell_type": "markdown",
   "metadata": {
    "collapsed": true
   },
   "source": [
    "## Launching iPython (Jupyter) Notebook\n",
    "\n",
    "    \n",
    "#### Quick and easy way (if user-specific packages not required):\n",
    "\n",
    "Load the `python` and `ipython` modules:\n",
    "\n",
    "    $ module load python/2.7.11\n",
    "    \n",
    "    $ ipython/4.2.0-py2.7\n",
    "    \n",
    "    \n",
    "<br>\n",
    "Launch the Jupyter Notebook application:\n",
    "\n",
    "    $ jupyter notebook\n",
    "   \n",
    "<div class=\"alert alert-info\">\n",
    "<b>NOTE: </b> This will launch the **Notebook Dashboard** within a new web browser window. \n",
    "</div>\n",
    "\n",
    "<br>\n",
    "\n",
    "#### Using virtual environments:\n",
    "\n",
    "To use along with customised python packages in a virtual environment, begin by following the steps in **Python on the VDI: Part II**. \n",
    "\n",
    "Once you have a virtual environment setup with your packages (including `Jupyter`), proceed by loading the required modules and activating the virtual environment:\n",
    "\n",
    "    $ module load python/2.7.11\n",
    "    \n",
    "    $ source <path_to_virtual_environment>/bin/activate\n",
    "    \n",
    "<br>\n",
    "Then, as above, launch the Jupyter Notebook application:\n",
    "\n",
    "    $ jupyter notebook"
   ]
  },
  {
   "cell_type": "markdown",
   "metadata": {},
   "source": [
    "## Using Jupyter Notebooks\n",
    "\n",
    "After launching the Jupyter Notebook application, you should see something similar to:\n",
    "\n",
    "<img src=\"./images/python9.png\">\n",
    "\n",
    "To start a new notebook, navigate to the **New** menu on the right side of the screen and select **Python 2** (under Notebooks).\n",
    "\n",
    "#### Jupyter's Quick Start Guide\n",
    "\n",
    "http://jupyter-notebook-beginner-guide.readthedocs.io/en/latest/index.html\n"
   ]
  }
 ],
 "metadata": {
  "kernelspec": {
   "display_name": "Python 2",
   "language": "python",
   "name": "python2"
  },
  "language_info": {
   "codemirror_mode": {
    "name": "ipython",
    "version": 2
   },
   "file_extension": ".py",
   "mimetype": "text/x-python",
   "name": "python",
   "nbconvert_exporter": "python",
   "pygments_lexer": "ipython2",
   "version": "2.7.11"
  }
 },
 "nbformat": 4,
 "nbformat_minor": 0
}
