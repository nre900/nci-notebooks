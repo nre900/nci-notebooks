{
 "cells": [
  {
   "cell_type": "markdown",
   "metadata": {},
   "source": [
    "# GDAL command line tools\n",
    "\n",
    "## gdalinfo\n",
    "\n",
    "```gdalinfo``` is a useful way to verfiy a file can be read and understood by the GDAL library. The following demonstates how to read the metadata contents of a netCDF file. "
   ]
  },
  {
   "cell_type": "markdown",
   "metadata": {},
   "source": [
    "### (1) Read and display file metadata contents"
   ]
  },
  {
   "cell_type": "markdown",
   "metadata": {
    "collapsed": true
   },
   "source": [
    "\n",
    "1. Load gdal module:\n",
    "\t\n",
    "\t```\n",
    "    $ module load gdal/1.11.1\n",
    "    ```\n",
    "    \n",
    "2. From command line: \n",
    "\n",
    "    ```\n",
    "    $ gdalinfo <file> \n",
    "    ```"
   ]
  },
  {
   "cell_type": "markdown",
   "metadata": {},
   "source": [
    "<img src=\"./images/gdal1.png\">"
   ]
  },
  {
   "cell_type": "markdown",
   "metadata": {},
   "source": [
    "This will display the top-level (or global) metadata for the file along with the subdatasets and coordinate reference system information. \n",
    "\n",
    "**Note**: For netCDF and HDF files, this will typically be empty until selecting a subdataset (example below). "
   ]
  },
  {
   "cell_type": "markdown",
   "metadata": {},
   "source": [
    "<img src=\"./images/gdal2.png\">"
   ]
  },
  {
   "cell_type": "markdown",
   "metadata": {},
   "source": [
    "### (2) Read and display subdataset metadata contents"
   ]
  },
  {
   "cell_type": "markdown",
   "metadata": {},
   "source": [
    "To read the subdataset contents (in this case one of the netCDF variables): \n",
    "\n",
    "```\n",
    "$ gdalinfo NETCDF:<file>:<subdataset>\n",
    "```\n",
    "\n",
    "This will display the metadata of that subdataset or variable and the coordinate reference system (CRS) information (if included). \n",
    "\n",
    "**Note:** If CRS information is included within the file but not displayed, the GDAL library is not properly understanding the projection information. Projection information needs to be reformatted. "
   ]
  },
  {
   "cell_type": "markdown",
   "metadata": {},
   "source": [
    "<img src=\"./images/gdal3.png\">"
   ]
  }
 ],
 "metadata": {
  "kernelspec": {
   "display_name": "Python 2",
   "language": "python",
   "name": "python2"
  },
  "language_info": {
   "codemirror_mode": {
    "name": "ipython",
    "version": 2
   },
   "file_extension": ".py",
   "mimetype": "text/x-python",
   "name": "python",
   "nbconvert_exporter": "python",
   "pygments_lexer": "ipython2",
   "version": "2.7.11"
  }
 },
 "nbformat": 4,
 "nbformat_minor": 0
}
